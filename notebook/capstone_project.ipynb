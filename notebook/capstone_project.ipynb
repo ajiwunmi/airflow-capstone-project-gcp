{
 "cells": [
  {
   "cell_type": "code",
   "execution_count": 1,
   "id": "f5f3b6c5",
   "metadata": {},
   "outputs": [
    {
     "name": "stdout",
     "output_type": "stream",
     "text": [
      "Table 'user_purchase' created successfully.\n"
     ]
    }
   ],
   "source": [
    "# pip install psycopg2-binary\n",
    "import psycopg2\n",
    "\n",
    "# Replace these placeholders with your actual database information\n",
    "db_host = \"34.132.74.124\"\n",
    "db_name = \"dvdrental\"\n",
    "db_user = \"postgres\"\n",
    "db_password = \"DataBootcamp2023\"\n",
    "\n",
    "# PostgreSQL connection parameters\n",
    "conn_params = {\n",
    "    \"host\": \"localhost\",\n",
    "    \"port\": \"5433\",\n",
    "    \"database\": \"deb_captone_project\",\n",
    "    \"user\": \"postgres\",\n",
    "    \"password\": \"postgres\"\n",
    "}\n",
    "\n",
    "# Schema and table creation SQL statements\n",
    "schema_name = \"capstone_schema_name\"\n",
    "create_schema_query = f\"CREATE SCHEMA IF NOT EXISTS {schema_name};\"\n",
    "create_table_query = f\"\"\"\n",
    "    CREATE TABLE IF NOT EXISTS {schema_name}.user_purchase (\n",
    "        invoice_number VARCHAR(10),\n",
    "        stock_code VARCHAR(20),\n",
    "        detail VARCHAR(1000),\n",
    "        quantity INT,\n",
    "        invoice_date TIMESTAMP,\n",
    "        unit_price NUMERIC(8,3),\n",
    "        customer_id INT,\n",
    "        country VARCHAR(20)\n",
    "    );\n",
    "\"\"\"\n",
    "\n",
    "def create_user_purchase_table(conn, cursor):\n",
    "    # Create schema\n",
    "    cursor.execute(create_schema_query)\n",
    "    conn.commit()\n",
    "    \n",
    "    # Create table\n",
    "    cursor.execute(create_table_query)\n",
    "    conn.commit()\n",
    "    print(\"Table 'user_purchase' created successfully.\")\n",
    "\n",
    "try:\n",
    "    # Connect to PostgreSQL\n",
    "    connection = psycopg2.connect(**conn_params)\n",
    "    cursor = connection.cursor()\n",
    "\n",
    "    # Create user_purchase table\n",
    "    create_user_purchase_table(connection, cursor)\n",
    "\n",
    "except (Exception, psycopg2.Error) as error:\n",
    "    print(\"Error while connecting to PostgreSQL or executing SQL:\", error)\n",
    "finally:\n",
    "    # Close the cursor and connection\n",
    "    if cursor:\n",
    "        cursor.close()\n",
    "    if connection:\n",
    "        connection.close()\n"
   ]
  },
  {
   "cell_type": "code",
   "execution_count": 1,
   "id": "4c62cf52",
   "metadata": {},
   "outputs": [
    {
     "name": "stdout",
     "output_type": "stream",
     "text": [
      "Data imported successfully.\n"
     ]
    }
   ],
   "source": [
    "import psycopg2\n",
    "import csv\n",
    "from datetime import datetime\n",
    "from pathlib import Path\n",
    "\n",
    "# CSV file path\n",
    "csv_file_path = Path('data/user_purchase.csv')\n",
    "\n",
    "# Replace these placeholders with your actual database information\n",
    "db_host = \"34.132.74.124\"\n",
    "db_name = \"dvdrental\"\n",
    "db_user = \"postgres\"\n",
    "db_password = \"DataBootcamp2023\"\n",
    "\n",
    "# PostgreSQL connection parameters\n",
    "conn_params = {\n",
    "    \"host\": \"localhost\",\n",
    "    \"port\": \"5433\",\n",
    "    \"database\": \"deb_captone_project\",\n",
    "    \"user\": \"postgres\",\n",
    "    \"password\": \"postgres\"\n",
    "}\n",
    "\n",
    "# Schema and table creation SQL statements\n",
    "schema_name = \"capstone\"\n",
    "\n",
    "def read_csv_and_insert_data():\n",
    "    try:\n",
    "        # Connect to PostgreSQL\n",
    "        # print(conn_params)\n",
    "        connection = psycopg2.connect(**conn_params)\n",
    "        cursor = connection.cursor()\n",
    "        # print(cursor)\n",
    "\n",
    "        with open(csv_file_path, 'r') as csvfile:\n",
    "            csv_reader = csv.reader(csvfile)\n",
    "            next(csv_reader)  # Skip header\n",
    "\n",
    "            for row in csv_reader:\n",
    "                # print (row)\n",
    "                invoice_number, stock_code, detail, quantity, invoice_date, unit_price, customer_id, country = row\n",
    "\n",
    "                # Convert invoice_date to datetime\n",
    "                # invoice_date = invoice_date.replace(\"/\", \"-\") \n",
    "              \n",
    "                invoice_date = datetime.strptime(invoice_date, '%m/%d/%Y %H:%M') #12/1/2010 8:26\n",
    "                invoice_date = datetime.strftime(invoice_date, '%Y-%m-%d %H:%M')\n",
    "               \n",
    "                if(customer_id) :\n",
    "                    # SQL query to insert data into the user_purchase table\n",
    "                    insert_query = f\"\"\"\n",
    "                        INSERT INTO {schema_name}.user_purchase\n",
    "                        (invoice_number, stock_code, detail, quantity, invoice_date, unit_price, customer_id, country)\n",
    "                        VALUES (%s, %s, %s, %s, %s, %s, %s, %s);\n",
    "                    \"\"\"\n",
    "\n",
    "                    # Execute the insert query\n",
    "                    cursor.execute(insert_query, (invoice_number, stock_code, detail, quantity, invoice_date, unit_price, customer_id, country))\n",
    "\n",
    "        # Commit the transaction\n",
    "        connection.commit()\n",
    "        print(\"Data imported successfully.\")\n",
    "\n",
    "    except (Exception, psycopg2.Error) as error:\n",
    "        print(\"Error while connecting to PostgreSQL or inserting data:\", error)\n",
    "    finally:\n",
    "        # Close the cursor and connection\n",
    "        if cursor:\n",
    "            cursor.close()\n",
    "        if connection:\n",
    "            connection.close()\n",
    "\n",
    "# Call the function to import data from the CSV file\n",
    "read_csv_and_insert_data()\n"
   ]
  },
  {
   "cell_type": "code",
   "execution_count": 4,
   "id": "fbc95eca",
   "metadata": {},
   "outputs": [],
   "source": [
    "import pandas as pd\n",
    "df = pd.read_csv('data/user_purchase.csv')\n",
    "\n",
    "df = df.dropna()  # Remove null values\n",
    "df['InvoiceDate'] = pd.to_datetime(df['InvoiceDate'], format='%m/%d/%Y %H:%M').dt.strftime('%Y-%m-%d %H:%M')\n",
    "df.head()\n",
    " # Store the cleaned data back to a CSV file (you can modify this to store in a different format)\n",
    "df.to_csv('data/cleaned_user_purchase.csv', index=False)"
   ]
  },
  {
   "cell_type": "code",
   "execution_count": 8,
   "id": "9255fd6d",
   "metadata": {},
   "outputs": [
    {
     "name": "stdout",
     "output_type": "stream",
     "text": [
      "cleaned data  (406828, 8)\n",
      "raw data  (406828, 8)\n"
     ]
    },
    {
     "data": {
      "text/plain": [
       "InvoiceNo      0\n",
       "StockCode      0\n",
       "Description    0\n",
       "Quantity       0\n",
       "InvoiceDate    0\n",
       "UnitPrice      0\n",
       "CustomerID     0\n",
       "Country        0\n",
       "dtype: int64"
      ]
     },
     "execution_count": 8,
     "metadata": {},
     "output_type": "execute_result"
    }
   ],
   "source": [
    "\n",
    "df_cleaned = pd.read_csv('data/cleaned_user_purchase.csv')\n",
    "print('cleaned data ',df_cleaned.shape)    \n",
    "print('raw data ',df.shape)\n",
    "df_cleaned.isnull().sum()\n",
    "df.isnull().sum()"
   ]
  },
  {
   "cell_type": "code",
   "execution_count": 35,
   "id": "c456109c",
   "metadata": {},
   "outputs": [
    {
     "ename": "ModuleNotFoundError",
     "evalue": "No module named 'pyspark'",
     "output_type": "error",
     "traceback": [
      "\u001b[1;31m---------------------------------------------------------------------------\u001b[0m",
      "\u001b[1;31mModuleNotFoundError\u001b[0m                       Traceback (most recent call last)",
      "\u001b[1;32mc:\\Users\\Ejiwunmi\\Data_Engineering_bootcamp\\airflow-gke-gcp\\notebook\\capstone_project.ipynb Cell 4\u001b[0m line \u001b[0;36m1\n\u001b[1;32m----> <a href='vscode-notebook-cell:/c%3A/Users/Ejiwunmi/Data_Engineering_bootcamp/airflow-gke-gcp/notebook/capstone_project.ipynb#W3sZmlsZQ%3D%3D?line=0'>1</a>\u001b[0m \u001b[39mfrom\u001b[39;00m \u001b[39mpyspark\u001b[39;00m\u001b[39m.\u001b[39;00m\u001b[39msql\u001b[39;00m \u001b[39mimport\u001b[39;00m SparkSession\n\u001b[0;32m      <a href='vscode-notebook-cell:/c%3A/Users/Ejiwunmi/Data_Engineering_bootcamp/airflow-gke-gcp/notebook/capstone_project.ipynb#W3sZmlsZQ%3D%3D?line=1'>2</a>\u001b[0m \u001b[39mfrom\u001b[39;00m \u001b[39mpyspark\u001b[39;00m\u001b[39m.\u001b[39;00m\u001b[39mml\u001b[39;00m\u001b[39m.\u001b[39;00m\u001b[39mfeature\u001b[39;00m \u001b[39mimport\u001b[39;00m Tokenizer, StopWordsRemover\n\u001b[0;32m      <a href='vscode-notebook-cell:/c%3A/Users/Ejiwunmi/Data_Engineering_bootcamp/airflow-gke-gcp/notebook/capstone_project.ipynb#W3sZmlsZQ%3D%3D?line=2'>3</a>\u001b[0m \u001b[39mfrom\u001b[39;00m \u001b[39mpyspark\u001b[39;00m\u001b[39m.\u001b[39;00m\u001b[39msql\u001b[39;00m\u001b[39m.\u001b[39;00m\u001b[39mfunctions\u001b[39;00m \u001b[39mimport\u001b[39;00m current_timestamp, col, when\n",
      "\u001b[1;31mModuleNotFoundError\u001b[0m: No module named 'pyspark'"
     ]
    }
   ],
   "source": [
    "from pyspark.sql import SparkSession\n",
    "from pyspark.ml.feature import Tokenizer, StopWordsRemover\n",
    "from pyspark.sql.functions import current_timestamp, col, when\n",
    "\n",
    "# Initialize a Spark session\n",
    "spark = SparkSession.builder \\\n",
    "    .appName(\"MovieReviewAnalysis\") \\\n",
    "    .getOrCreate()\n",
    "\n",
    "# Load the movie_review.csv into a DataFrame\n",
    "csv_file_path = Path('data/movie_review.csv')\n",
    "output_csv_file_path = Path('data/staging_area/movie_reviewed.csv')\n",
    "df = spark.read.csv(csv_file_path , header=True, inferSchema=True)\n",
    "\n",
    "# Tokenize the review_str column\n",
    "tokenizer = Tokenizer(inputCol=\"review_str\", outputCol=\"review_token\")\n",
    "df = tokenizer.transform(df)\n",
    "\n",
    "# Remove stop words\n",
    "remover = StopWordsRemover(inputCol=\"review_token\", outputCol=\"filtered_tokens\")\n",
    "df = remover.transform(df)\n",
    "\n",
    "# Check if the review contains the word \"good\" and label as positive review\n",
    "df = df.withColumn(\"positive_review\", when(col(\"review_str\").contains(\"good\"), 1).otherwise(0))\n",
    "\n",
    "# Add a timestamp column for insert_date\n",
    "df = df.withColumn(\"insert_date\", current_timestamp())\n",
    "\n",
    "# Select the required columns\n",
    "result_df = df.select(\"cid\", \"positive_review\", \"review_id\")\n",
    "\n",
    "# Save the results to a new file in the STAGE_area folder\n",
    "result_df.write.mode(\"overwrite\").csv(output_csv_file_path, header=True)\n",
    "\n",
    "# Stop the Spark session\n",
    "spark.stop()\n"
   ]
  }
 ],
 "metadata": {
  "kernelspec": {
   "display_name": "Python 3",
   "language": "python",
   "name": "python3"
  },
  "language_info": {
   "codemirror_mode": {
    "name": "ipython",
    "version": 3
   },
   "file_extension": ".py",
   "mimetype": "text/x-python",
   "name": "python",
   "nbconvert_exporter": "python",
   "pygments_lexer": "ipython3",
   "version": "3.7.13"
  }
 },
 "nbformat": 4,
 "nbformat_minor": 5
}
