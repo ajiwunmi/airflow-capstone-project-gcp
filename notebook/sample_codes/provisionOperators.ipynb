{
 "cells": [
  {
   "cell_type": "code",
   "execution_count": null,
   "metadata": {},
   "outputs": [],
   "source": [
    "#GoogleBaseHook\n",
    "pip install apache-airflow-providers-google==10.9.0\n",
    "from airflow.providers.google.common.hooks.base_google import GoogleBaseHook\n",
    "f = GoogleBaseHook(\n",
    "\tgcp_conn_id=MY_GCP_CONN_ID,\n",
    "\timpersonation_chain=MY_IMPERSONATION_CHAIN,\n",
    "\tdelegate_to=MY_DELEGATE_TO,\n",
    ")\n",
    "\n",
    "#GCPHOOK\n",
    "pip install apache-airflow-providers-google==10.9.0\n",
    "from airflow.providers.google.cloud.hooks.gcs import GCSHook\n",
    "f = GCSHook(\n",
    "\tdelegate_to=MY_DELEGATE_TO,\n",
    "\timpersonation_chain=MY_IMPERSONATION_CHAIN,\n",
    "\tgcp_conn_id=MY_GCP_CONN_ID,\n",
    ")"
   ]
  },
  {
   "cell_type": "code",
   "execution_count": null,
   "metadata": {},
   "outputs": [],
   "source": [
    "pip install apache-airflow==2.7.2\n",
    "from airflow.operators.python import PythonOperator\n",
    "f = PythonOperator(\n",
    "\tpython_callable=MY_PYTHON_CALLABLE,\n",
    "\top_args=\"None\",\n",
    "\top_kwargs=\"None\",\n",
    "\ttemplates_dict=\"None\",\n",
    "\ttemplates_exts=\"None\",\n",
    "\tshow_return_value_in_logs=\"True\",\n",
    ")"
   ]
  }
 ],
 "metadata": {
  "language_info": {
   "name": "python"
  }
 },
 "nbformat": 4,
 "nbformat_minor": 2
}
